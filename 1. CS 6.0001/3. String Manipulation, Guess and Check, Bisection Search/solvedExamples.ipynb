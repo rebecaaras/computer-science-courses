{
 "cells": [
  {
   "cell_type": "markdown",
   "metadata": {},
   "source": [
    "### Solved Examples - Lesson 3 [3.1 and 3.3–3.5]"
   ]
  },
  {
   "cell_type": "code",
   "execution_count": 5,
   "metadata": {},
   "outputs": [
    {
     "name": "stdout",
     "output_type": "stream",
     "text": [
      "low = 0.0 high= 123456789 ans = 61728394.5\n",
      "low = 0.0 high= 61728394.5 ans = 30864197.25\n",
      "low = 0.0 high= 30864197.25 ans = 15432098.625\n",
      "low = 0.0 high= 15432098.625 ans = 7716049.3125\n",
      "low = 0.0 high= 7716049.3125 ans = 3858024.65625\n",
      "low = 0.0 high= 3858024.65625 ans = 1929012.328125\n",
      "low = 0.0 high= 1929012.328125 ans = 964506.1640625\n",
      "low = 0.0 high= 964506.1640625 ans = 482253.08203125\n",
      "low = 0.0 high= 482253.08203125 ans = 241126.541015625\n",
      "low = 0.0 high= 241126.541015625 ans = 120563.2705078125\n",
      "low = 0.0 high= 120563.2705078125 ans = 60281.63525390625\n",
      "low = 0.0 high= 60281.63525390625 ans = 30140.817626953125\n",
      "low = 0.0 high= 30140.817626953125 ans = 15070.408813476562\n",
      "low = 0.0 high= 15070.408813476562 ans = 7535.204406738281\n",
      "low = 7535.204406738281 high= 15070.408813476562 ans = 11302.806610107422\n",
      "low = 7535.204406738281 high= 11302.806610107422 ans = 9419.005508422852\n",
      "low = 9419.005508422852 high= 11302.806610107422 ans = 10360.906059265137\n",
      "low = 10360.906059265137 high= 11302.806610107422 ans = 10831.85633468628\n",
      "low = 10831.85633468628 high= 11302.806610107422 ans = 11067.33147239685\n",
      "low = 11067.33147239685 high= 11302.806610107422 ans = 11185.069041252136\n",
      "low = 11067.33147239685 high= 11185.069041252136 ans = 11126.200256824493\n",
      "low = 11067.33147239685 high= 11126.200256824493 ans = 11096.765864610672\n",
      "low = 11096.765864610672 high= 11126.200256824493 ans = 11111.483060717583\n",
      "low = 11096.765864610672 high= 11111.483060717583 ans = 11104.124462664127\n",
      "low = 11104.124462664127 high= 11111.483060717583 ans = 11107.803761690855\n",
      "low = 11107.803761690855 high= 11111.483060717583 ans = 11109.643411204219\n",
      "low = 11109.643411204219 high= 11111.483060717583 ans = 11110.5632359609\n",
      "low = 11110.5632359609 high= 11111.483060717583 ans = 11111.023148339242\n",
      "low = 11111.023148339242 high= 11111.483060717583 ans = 11111.253104528412\n",
      "low = 11111.023148339242 high= 11111.253104528412 ans = 11111.138126433827\n",
      "low = 11111.023148339242 high= 11111.138126433827 ans = 11111.080637386534\n",
      "low = 11111.080637386534 high= 11111.138126433827 ans = 11111.10938191018\n",
      "low = 11111.10938191018 high= 11111.138126433827 ans = 11111.123754172004\n",
      "low = 11111.10938191018 high= 11111.123754172004 ans = 11111.116568041092\n",
      "low = 11111.10938191018 high= 11111.116568041092 ans = 11111.112974975636\n",
      "low = 11111.10938191018 high= 11111.112974975636 ans = 11111.111178442909\n",
      "low = 11111.10938191018 high= 11111.111178442909 ans = 11111.110280176545\n",
      "low = 11111.110280176545 high= 11111.111178442909 ans = 11111.110729309727\n",
      "low = 11111.110729309727 high= 11111.111178442909 ans = 11111.110953876318\n",
      "low = 11111.110953876318 high= 11111.111178442909 ans = 11111.111066159614\n",
      "low = 11111.110953876318 high= 11111.111066159614 ans = 11111.111010017965\n",
      "low = 11111.111010017965 high= 11111.111066159614 ans = 11111.11103808879\n",
      "low = 11111.11103808879 high= 11111.111066159614 ans = 11111.1110521242\n",
      "low = 11111.1110521242 high= 11111.111066159614 ans = 11111.111059141907\n",
      "low = 11111.111059141907 high= 11111.111066159614 ans = 11111.111062650762\n",
      "numGuesses = 45\n",
      "11111.111060896335 is close to square root of 123456789\n"
     ]
    }
   ],
   "source": [
    "#finds square root of a number n using bisection search\n",
    "x = 123456789\n",
    "epsilon = 0.01\n",
    "numGuesses = 0\n",
    "low = 0.0\n",
    "high = max(1.0, x)\n",
    "ans = (high + low)/2.0\n",
    "\n",
    "while abs(ans**2 - x) >= epsilon:\n",
    "    print('low =', low, 'high=', high, 'ans =', ans)\n",
    "    numGuesses += 1\n",
    "    if ans**2 < x:\n",
    "        low = ans\n",
    "    else:\n",
    "        high = ans\n",
    "    ans = (high + low)/2.0\n",
    "\n",
    "print('numGuesses =', numGuesses)\n",
    "print(ans, 'is close to square root of', x)"
   ]
  },
  {
   "cell_type": "code",
   "execution_count": 8,
   "metadata": {},
   "outputs": [
    {
     "name": "stdout",
     "output_type": "stream",
     "text": [
      "numGuesses = 24\n",
      "-2.9240177273750305 is close to cube root of -25\n"
     ]
    }
   ],
   "source": [
    "#finds cube root of a number n using bisection search\n",
    "x = -25\n",
    "epsilon = 0.00001\n",
    "numGuesses = 0\n",
    "low = min(0.0, x)\n",
    "high = max(1.0, x)\n",
    "ans = (high + low)/2.0\n",
    "\n",
    "while abs(ans**3 - x) >= epsilon:\n",
    "    #print('low =', low, 'high=', high, 'ans =', ans)\n",
    "    numGuesses += 1\n",
    "    if ans**3 < x:\n",
    "        low = ans\n",
    "    else:\n",
    "        high = ans\n",
    "    ans = (high + low)/2.0\n",
    "\n",
    "print('numGuesses =', numGuesses)\n",
    "print(ans, 'is close to cube root of', x)"
   ]
  },
  {
   "cell_type": "code",
   "execution_count": 9,
   "metadata": {},
   "outputs": [
    {
     "name": "stdout",
     "output_type": "stream",
     "text": [
      "numGuesses = 9\n",
      "-2.924017756209766 is close to cube root of -25\n"
     ]
    }
   ],
   "source": [
    "#finds cube root using Newton-Raphson\n",
    "x = -25\n",
    "epsilon = 0.00001\n",
    "numGuesses = 0\n",
    "low = min(0.0, x)\n",
    "high = max(1.0, x)\n",
    "ans = (high + low)/2.0\n",
    "\n",
    "while abs(ans**3 - x) >= epsilon:\n",
    "    numGuesses += 1\n",
    "    \n",
    "    ans = ans - ((ans**3 - x)/(3*ans**2 - 1))\n",
    "\n",
    "print('numGuesses =', numGuesses)\n",
    "print(ans, 'is close to cube root of', x)"
   ]
  },
  {
   "cell_type": "markdown",
   "metadata": {},
   "source": [
    "Para o exemplo acima o método de Newton-Raphson é quase 3 vezes mais rápido que o método de biseção."
   ]
  }
 ],
 "metadata": {
  "kernelspec": {
   "display_name": "Python 3",
   "language": "python",
   "name": "python3"
  },
  "language_info": {
   "codemirror_mode": {
    "name": "ipython",
    "version": 3
   },
   "file_extension": ".py",
   "mimetype": "text/x-python",
   "name": "python",
   "nbconvert_exporter": "python",
   "pygments_lexer": "ipython3",
   "version": "3.11.7"
  }
 },
 "nbformat": 4,
 "nbformat_minor": 2
}
