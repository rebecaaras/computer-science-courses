{
 "cells": [
  {
   "cell_type": "markdown",
   "metadata": {},
   "source": [
    "### Solved Examples - Lesson 4 [4.1 - 4.6]"
   ]
  },
  {
   "cell_type": "markdown",
   "metadata": {},
   "source": [
    "#### Funcions"
   ]
  },
  {
   "cell_type": "code",
   "execution_count": 6,
   "metadata": {},
   "outputs": [
    {
     "name": "stdout",
     "output_type": "stream",
     "text": [
      "Vieira, Rebeca\n",
      "Rebeca Vieira\n",
      "Vieira, Rebeca\n",
      "Rebeca Vieira\n"
     ]
    }
   ],
   "source": [
    "def printName(firstName, lastName, reverse):\n",
    "    if reverse:\n",
    "        print (lastName + ', ' + firstName)\n",
    "\n",
    "    else:\n",
    "        print(firstName + ' ' + lastName)\n",
    "\n",
    "printName('Rebeca', 'Vieira', 'a')\n",
    "printName('Rebeca', 'Vieira', None)\n",
    "printName('Rebeca', 'Vieira', True)\n",
    "printName('Rebeca', 'Vieira', False)"
   ]
  },
  {
   "cell_type": "code",
   "execution_count": 9,
   "metadata": {},
   "outputs": [
    {
     "name": "stdout",
     "output_type": "stream",
     "text": [
      "Olga Puchmajerova\n"
     ]
    }
   ],
   "source": [
    "printName(firstName='Olga', lastName = 'Puchmajerova', reverse=False)"
   ]
  },
  {
   "cell_type": "code",
   "execution_count": 11,
   "metadata": {},
   "outputs": [
    {
     "name": "stdout",
     "output_type": "stream",
     "text": [
      "Rebeca Vieira\n"
     ]
    }
   ],
   "source": [
    "def printName(firstName, lastName, reverse = False):\n",
    "    if reverse:\n",
    "        print (lastName + ', ' + firstName)\n",
    "\n",
    "    else:\n",
    "        print(firstName + ' ' + lastName)\n",
    "\n",
    "printName('Rebeca', 'Vieira')"
   ]
  },
  {
   "cell_type": "markdown",
   "metadata": {},
   "source": [
    "#### Scoping"
   ]
  },
  {
   "cell_type": "code",
   "execution_count": 15,
   "metadata": {},
   "outputs": [
    {
     "name": "stdout",
     "output_type": "stream",
     "text": [
      "x=  4\n",
      "z=  4\n",
      "x=  abc\n",
      "x=  4\n"
     ]
    },
    {
     "data": {
      "text/plain": [
       "<function __main__.f.<locals>.g()>"
      ]
     },
     "execution_count": 15,
     "metadata": {},
     "output_type": "execute_result"
    }
   ],
   "source": [
    "def f(x):\n",
    "    def g():\n",
    "        x = 'abc'\n",
    "        print('x= ', x)\n",
    "    def h():\n",
    "        z = x\n",
    "        print('z= ', z)\n",
    "    x = x + 1\n",
    "    print('x= ', x)\n",
    "    h()\n",
    "    g()\n",
    "    print('x= ', x)\n",
    "    return g\n",
    "\n",
    "#x = 3\n",
    "z = f(x)\n",
    "#print('x = ', x)\n",
    "#print('z = ', z)\n",
    "z"
   ]
  }
 ],
 "metadata": {
  "kernelspec": {
   "display_name": "base",
   "language": "python",
   "name": "python3"
  },
  "language_info": {
   "codemirror_mode": {
    "name": "ipython",
    "version": 3
   },
   "file_extension": ".py",
   "mimetype": "text/x-python",
   "name": "python",
   "nbconvert_exporter": "python",
   "pygments_lexer": "ipython3",
   "version": "3.11.7"
  }
 },
 "nbformat": 4,
 "nbformat_minor": 2
}
