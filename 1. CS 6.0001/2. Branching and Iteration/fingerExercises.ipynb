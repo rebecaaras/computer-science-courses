{
 "cells": [
  {
   "cell_type": "markdown",
   "metadata": {},
   "source": [
    "### Finger Exercises - Lesson 2 [2.2 - 3.2]"
   ]
  },
  {
   "cell_type": "markdown",
   "metadata": {},
   "source": [
    " **Exercise 1** - Write a program that examines three variables -- x, y, and z -- and prints the largest odd number among them. If none of them are odd, it should print a message to that effect."
   ]
  },
  {
   "cell_type": "code",
   "execution_count": 12,
   "metadata": {},
   "outputs": [
    {
     "name": "stdout",
     "output_type": "stream",
     "text": [
      "Highest odd number is 23\n"
     ]
    }
   ],
   "source": [
    "x = 11\n",
    "y = 15\n",
    "z = 23\n",
    "\n",
    "odd_numbers = []\n",
    "\n",
    "for element in [x, y, z]:\n",
    "    if element % 2 == 1:\n",
    "        odd_numbers.append(element)\n",
    "    \n",
    "if len(odd_numbers) == 0:\n",
    "    print('No numbers are odd.')\n",
    "else:\n",
    "    highest_odd_number = 1\n",
    "    for odd_number in odd_numbers:\n",
    "        if odd_number > highest_odd_number:\n",
    "            highest_odd_number = odd_number\n",
    "    print('Highest odd number is ' + str(highest_odd_number))"
   ]
  },
  {
   "cell_type": "markdown",
   "metadata": {},
   "source": [
    "**Exercise 2** - Asks the user to input 10 integers and then prints the largest odd number. If no odd number was entered, it should print a message to that effect."
   ]
  },
  {
   "cell_type": "code",
   "execution_count": 17,
   "metadata": {},
   "outputs": [
    {
     "name": "stdout",
     "output_type": "stream",
     "text": [
      "No numbers are odd.\n"
     ]
    }
   ],
   "source": [
    "numbers_list = []\n",
    "for i in range(10):\n",
    "    numbers_list.append(int(input('Type an integer:')))\n",
    "\n",
    "highest_odd_number = 0\n",
    "for number in numbers_list:\n",
    "    if (number % 2 == 1) and (number > highest_odd_number):\n",
    "        highest_odd_number = number\n",
    "\n",
    "if highest_odd_number == 0:\n",
    "    print('No numbers are odd.')\n",
    "else:\n",
    "    print('Highest odd number is ' + str(highest_odd_number))"
   ]
  },
  {
   "cell_type": "markdown",
   "metadata": {},
   "source": [
    "**Exercise 3** - Let be a string that contains a sequence of decimal numbers separated by commas. White a program that prints the sum of numbers in s."
   ]
  },
  {
   "cell_type": "code",
   "execution_count": 21,
   "metadata": {},
   "outputs": [
    {
     "name": "stdout",
     "output_type": "stream",
     "text": [
      "Sum is 183.0\n"
     ]
    }
   ],
   "source": [
    "s = '1,3,5.0,12,65,97.0'\n",
    "s_array = s.split(sep=',')\n",
    "\n",
    "sum_elements = 0\n",
    "for element in s_array:\n",
    "    sum_elements += float(element)\n",
    "\n",
    "print('Sum is ' + str(sum_elements))"
   ]
  }
 ],
 "metadata": {
  "kernelspec": {
   "display_name": "Python 3",
   "language": "python",
   "name": "python3"
  },
  "language_info": {
   "codemirror_mode": {
    "name": "ipython",
    "version": 3
   },
   "file_extension": ".py",
   "mimetype": "text/x-python",
   "name": "python",
   "nbconvert_exporter": "python",
   "pygments_lexer": "ipython3",
   "version": "3.11.5"
  }
 },
 "nbformat": 4,
 "nbformat_minor": 2
}
