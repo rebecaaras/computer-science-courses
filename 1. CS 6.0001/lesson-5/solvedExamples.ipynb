{
 "cells": [
  {
   "cell_type": "markdown",
   "metadata": {},
   "source": [
    "### Solved Examples - Lesson 5"
   ]
  },
  {
   "cell_type": "markdown",
   "metadata": {},
   "source": [
    "Tuples"
   ]
  },
  {
   "cell_type": "code",
   "execution_count": 1,
   "metadata": {},
   "outputs": [],
   "source": [
    "from math import *"
   ]
  },
  {
   "cell_type": "code",
   "execution_count": 2,
   "metadata": {},
   "outputs": [
    {
     "name": "stdout",
     "output_type": "stream",
     "text": [
      "(1, 2, 4, 5, 10, 20)\n",
      "42\n"
     ]
    }
   ],
   "source": [
    "def findDivisors (n1, n2):\n",
    "    \"\"\"assumes that n1 and n2 are positive ints\n",
    "    returns a tuple containing common divisors of n1 & n2\"\"\"\n",
    "    divisors = () #the empty tuple\n",
    "    for i in range(1, min(n1, n2) + 1):\n",
    "        if n1 % i == 0 and n2 % i == 0:\n",
    "            divisors = divisors + (i,)\n",
    "    return divisors\n",
    "\n",
    "divisors = findDivisors(20, 100)\n",
    "print (divisors)\n",
    "total = 0\n",
    "for d in divisors:\n",
    "    total += d\n",
    "print (total)\n"
   ]
  },
  {
   "cell_type": "code",
   "execution_count": 3,
   "metadata": {},
   "outputs": [
    {
     "name": "stdout",
     "output_type": "stream",
     "text": [
      "2 100\n"
     ]
    }
   ],
   "source": [
    "def findExtemeDivisors (n1, n2):\n",
    "    \"\"\"assumes that n1 and n2 are positive ints\n",
    "    returns a tuple containing the smallest common divisor of n1 & n2\"\"\"\n",
    "    divisors = () #the empty tuple\n",
    "    minVal, maxVal = None, None\n",
    "    for i in range(2, min(n1, n2) + 1):\n",
    "        if n1 % i == 0 and n2 % i == 0:\n",
    "            if minVal == None or i < minVal:\n",
    "                minVal = i\n",
    "            if maxVal == None or i > maxVal:\n",
    "                maxVal = i\n",
    "            divisors = divisors + (i,)\n",
    "    return (minVal, maxVal)\n",
    "\n",
    "minDivisor, maxDivisor = findExtemeDivisors(100, 200)\n",
    "print (minDivisor, maxDivisor)"
   ]
  },
  {
   "cell_type": "markdown",
   "metadata": {},
   "source": [
    "Lists"
   ]
  },
  {
   "cell_type": "code",
   "execution_count": 4,
   "metadata": {},
   "outputs": [
    {
     "name": "stdout",
     "output_type": "stream",
     "text": [
      "Univs = [['MIT', 'Caltech'], ['Harvard', 'Yale', 'Brown']]\n",
      "Univs1 = [['MIT', 'Caltech'], ['Harvard', 'Yale', 'Brown']]\n",
      "True\n"
     ]
    }
   ],
   "source": [
    "techs = ['MIT', 'Caltech']\n",
    "ivys = ['Harvard', 'Yale', 'Brown']\n",
    "\n",
    "univs = [techs, ivys]\n",
    "univs1 = [['MIT', 'Caltech'], ['Harvard', 'Yale', 'Brown']]\n",
    "\n",
    "print('Univs =', univs)\n",
    "print('Univs1 =', univs1)\n",
    "print(univs == univs1)"
   ]
  },
  {
   "cell_type": "code",
   "execution_count": 5,
   "metadata": {},
   "outputs": [
    {
     "name": "stdout",
     "output_type": "stream",
     "text": [
      "Id of Univs = 1378258162752\n",
      "Id of Univs1 = 1378259334400\n"
     ]
    }
   ],
   "source": [
    "print('Id of Univs =', id(univs))\n",
    "print('Id of Univs1 =', id(univs1))"
   ]
  },
  {
   "cell_type": "code",
   "execution_count": 6,
   "metadata": {},
   "outputs": [
    {
     "name": "stdout",
     "output_type": "stream",
     "text": [
      "Id of Univs[0] = 1378259243008\n",
      "Id of Univs1[0] = 1378258324608\n"
     ]
    }
   ],
   "source": [
    "print('Id of Univs[0] =', id(univs[0]))\n",
    "print('Id of Univs1[0] =', id(univs1[0]))"
   ]
  },
  {
   "cell_type": "code",
   "execution_count": 7,
   "metadata": {},
   "outputs": [
    {
     "name": "stdout",
     "output_type": "stream",
     "text": [
      "Univs = [['MIT', 'Caltech', 'RPI'], ['Harvard', 'Yale', 'Brown']]\n",
      "Univs1 = [['MIT', 'Caltech'], ['Harvard', 'Yale', 'Brown']]\n",
      "False\n"
     ]
    }
   ],
   "source": [
    "techs.append('RPI')\n",
    "print('Univs =', univs)\n",
    "print('Univs1 =', univs1)\n",
    "print(univs == univs1)"
   ]
  },
  {
   "cell_type": "code",
   "execution_count": 8,
   "metadata": {},
   "outputs": [
    {
     "name": "stdout",
     "output_type": "stream",
     "text": [
      "[['MIT', 'Caltech', 'RPI'], ['Harvard', 'Yale', 'Brown'], 'UFC']\n",
      "[['MIT', 'Caltech', 'RPI'], ['Harvard', 'Yale', 'Brown'], 'UFC']\n"
     ]
    }
   ],
   "source": [
    "univs3 = univs\n",
    "univs3.append('UFC')\n",
    "print(univs)\n",
    "print(univs3)"
   ]
  },
  {
   "cell_type": "markdown",
   "metadata": {},
   "source": [
    "Cloning"
   ]
  },
  {
   "cell_type": "code",
   "execution_count": 9,
   "metadata": {},
   "outputs": [
    {
     "name": "stdout",
     "output_type": "stream",
     "text": [
      "L1 = [2, 3, 4]\n"
     ]
    }
   ],
   "source": [
    "def removeDups(L1, L2):\n",
    "    \"\"\"Assumes that L1 and L2 are lists.\n",
    "    removes any element in L1 that also occurs in L2\"\"\"\n",
    "    for e1 in L1:\n",
    "        if e1 in L2:\n",
    "            L1.remove(e1)\n",
    "L1 = [1, 2, 3, 4]\n",
    "L2 = [1, 2, 5, 6]\n",
    "\n",
    "removeDups(L1, L2)\n",
    "print('L1 =', L1)"
   ]
  },
  {
   "cell_type": "markdown",
   "metadata": {},
   "source": [
    "Unexpected behavior! A better option for the code above is:"
   ]
  },
  {
   "cell_type": "code",
   "execution_count": 10,
   "metadata": {},
   "outputs": [
    {
     "name": "stdout",
     "output_type": "stream",
     "text": [
      "L1 = [3, 4]\n"
     ]
    }
   ],
   "source": [
    "def removeDups(L1, L2):\n",
    "    \"\"\"Assumes that L1 and L2 are lists.\n",
    "    removes any element in L1 that also occurs in L2\"\"\"\n",
    "    for e1 in L1[:]:\n",
    "        #L1[:] is a clone of L1 so it's not edited in the loop\n",
    "        if e1 in L2:\n",
    "            L1.remove(e1)\n",
    "L1 = [1, 2, 3, 4]\n",
    "L2 = [1, 2, 5, 6]\n",
    "\n",
    "removeDups(L1, L2)\n",
    "print('L1 =', L1)"
   ]
  },
  {
   "cell_type": "markdown",
   "metadata": {},
   "source": [
    "List comprehension"
   ]
  },
  {
   "cell_type": "code",
   "execution_count": 11,
   "metadata": {},
   "outputs": [
    {
     "name": "stdout",
     "output_type": "stream",
     "text": [
      "[1, 4, 9, 16, 25, 36]\n"
     ]
    }
   ],
   "source": [
    "L = [x**2 for x in range(1, 7)]\n",
    "print(L)"
   ]
  },
  {
   "cell_type": "code",
   "execution_count": 12,
   "metadata": {},
   "outputs": [
    {
     "name": "stdout",
     "output_type": "stream",
     "text": [
      "[1, 4, 9, 25]\n"
     ]
    }
   ],
   "source": [
    "mixed = [1, 2, 'a', 3, None, '123', 5]\n",
    "print([x**2 for x in mixed if type(x) == int])"
   ]
  },
  {
   "cell_type": "markdown",
   "metadata": {},
   "source": [
    "Functions as objects"
   ]
  },
  {
   "cell_type": "code",
   "execution_count": 13,
   "metadata": {},
   "outputs": [
    {
     "name": "stdout",
     "output_type": "stream",
     "text": [
      "L = [1, -2, 3.33]\n",
      "L = [1, 2, 3.33]\n",
      "L = [1, 2, 3]\n",
      "L = [1, 2, 6]\n"
     ]
    }
   ],
   "source": [
    "def appyToEach(L, f):\n",
    "    \"\"\"assumes L aos a list, f a function\n",
    "    mutates L by replacing each element, e, of L by f(e)\"\"\"\n",
    "    for i in range(len(L)):\n",
    "        L[i] = f(L[i])\n",
    "\n",
    "L = [1, -2, 3.33]\n",
    "print('L =', L)\n",
    "appyToEach(L, abs)\n",
    "print('L =', L)\n",
    "appyToEach(L, int)\n",
    "print('L =', L)\n",
    "appyToEach(L, factorial)\n",
    "print('L =', L)"
   ]
  },
  {
   "cell_type": "code",
   "execution_count": 14,
   "metadata": {},
   "outputs": [
    {
     "name": "stdout",
     "output_type": "stream",
     "text": [
      "Jean boit good rouge vin, et mange pain. \n",
      "John drinks of wine red. \n"
     ]
    }
   ],
   "source": [
    "EtoF = {'bread':'pain', 'wine':'vin', 'with':'avec', 'eats':'mange', \n",
    "        'drinks':'boit', 'John':'Jean', 'friends':'amis',\n",
    "        'and': 'et', 'of':'du', 'red':'rouge'}\n",
    "FtoE = {'pain': 'bread', 'vin':'wine', 'avec':'with',\n",
    "        'mange':'eats', 'boit': 'drinks', 'Jean':'John',\n",
    "        'amis':'friends', 'et':'and', 'du':'of', 'rouge':'red'}\n",
    "dicts =  {'English to French': EtoF, 'French to English':FtoE}\n",
    "\n",
    "def translateWord(word, dictionary):\n",
    "    if word in dictionary.keys():\n",
    "        return dictionary[word]\n",
    "    elif word != '':\n",
    "        return \"\" + word + \"\"\n",
    "    return word\n",
    "\n",
    "def translate(phrase, dicts, direction):\n",
    "    UCLetters = 'ABCDEFGHIJKLMNOPQRSTUVWXYZ'\n",
    "    LCLetters = 'abcdefghijklmnopqrstuvwxyz'\n",
    "    letters =   UCLetters + LCLetters\n",
    "    dictionary = dicts[direction]\n",
    "    translation = ''\n",
    "    word = ''\n",
    "    for c in phrase:\n",
    "        if c in letters:\n",
    "            word = word + c\n",
    "        else: \n",
    "            translation = translation + translateWord(word, dictionary) + c\n",
    "            word = ''\n",
    "    return translation + ' ' + translateWord(word, dictionary)\n",
    "\n",
    "print (translate('John drinks good red wine, and eats bread.', dicts, \n",
    "                'English to French'))\n",
    "print (translate('Jean boit du vin rouge.', dicts, \n",
    "                'French to English'))"
   ]
  },
  {
   "cell_type": "markdown",
   "metadata": {},
   "source": [
    "#### In class questions"
   ]
  },
  {
   "cell_type": "code",
   "execution_count": 15,
   "metadata": {},
   "outputs": [
    {
     "name": "stdout",
     "output_type": "stream",
     "text": [
      "('sunny', 'ccold')\n"
     ]
    }
   ],
   "source": [
    "#tuples\n",
    "def always_sunny(t1, t2):\n",
    " \"\"\" t1, t2 are non empty \"\"\"\n",
    " sun = (\"sunny\",\"sun\")\n",
    " first = t1[0] + t2[0]\n",
    " return (sun[0], first)\n",
    "\n",
    "\n",
    "print(always_sunny(('cloudy'), ('cold',)))"
   ]
  },
  {
   "cell_type": "code",
   "execution_count": 16,
   "metadata": {},
   "outputs": [
    {
     "name": "stdout",
     "output_type": "stream",
     "text": [
      "['mi', 're', ['fa', 'la']]\n"
     ]
    }
   ],
   "source": [
    "#methods and their returned values\n",
    "L1 = ['re']\n",
    "L2 = ['mi']\n",
    "L3 = ['do']\n",
    "L4 = L1 + L2\n",
    "L3.extend(L4)\n",
    "L3.sort()\n",
    "del(L3[0])\n",
    "L3.append(['fa','la'])\n",
    "print(L3)"
   ]
  },
  {
   "cell_type": "code",
   "execution_count": 17,
   "metadata": {},
   "outputs": [
    {
     "name": "stdout",
     "output_type": "stream",
     "text": [
      "['bacon', 'eggs', 'juice', 'toast', 'jam']\n"
     ]
    }
   ],
   "source": [
    "#aliasing\n",
    "L1 = [\"bacon\", \"eggs\"]\n",
    "L2 = [\"toast\", \"jam\"]\n",
    "brunch = L1\n",
    "L1.append(\"juice\")\n",
    "brunch.extend(L2)\n",
    "print(brunch)"
   ]
  }
 ],
 "metadata": {
  "kernelspec": {
   "display_name": "base",
   "language": "python",
   "name": "python3"
  },
  "language_info": {
   "codemirror_mode": {
    "name": "ipython",
    "version": 3
   },
   "file_extension": ".py",
   "mimetype": "text/x-python",
   "name": "python",
   "nbconvert_exporter": "python",
   "pygments_lexer": "ipython3",
   "version": "3.11.7"
  }
 },
 "nbformat": 4,
 "nbformat_minor": 2
}
