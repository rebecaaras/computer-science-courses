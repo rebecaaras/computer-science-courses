{
 "cells": [
  {
   "cell_type": "code",
   "execution_count": 12,
   "metadata": {},
   "outputs": [],
   "source": [
    "from math import *"
   ]
  },
  {
   "cell_type": "code",
   "execution_count": 13,
   "metadata": {},
   "outputs": [
    {
     "name": "stdout",
     "output_type": "stream",
     "text": [
      "x**y = 8\n",
      "log(x) = 1.0\n"
     ]
    }
   ],
   "source": [
    "x = input('Enter the number x:')\n",
    "y = input ('Enter the number y:')\n",
    "\n",
    "powerResult = int(x)**int(y)\n",
    "print('x**y = ' +  str(powerResult))\n",
    "logResult = log2(int(x))\n",
    "print('log(x) = ' + str(logResult))"
   ]
  }
 ],
 "metadata": {
  "kernelspec": {
   "display_name": "Python 3",
   "language": "python",
   "name": "python3"
  },
  "language_info": {
   "codemirror_mode": {
    "name": "ipython",
    "version": 3
   },
   "file_extension": ".py",
   "mimetype": "text/x-python",
   "name": "python",
   "nbconvert_exporter": "python",
   "pygments_lexer": "ipython3",
   "version": "3.11.5"
  }
 },
 "nbformat": 4,
 "nbformat_minor": 2
}
