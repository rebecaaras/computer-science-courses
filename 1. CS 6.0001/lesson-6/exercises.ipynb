{
 "cells": [
  {
   "cell_type": "markdown",
   "metadata": {},
   "source": [
    "### Examples of recursion"
   ]
  },
  {
   "cell_type": "markdown",
   "metadata": {},
   "source": [
    "#### Multiplication - Iterative Solution\n",
    "\n",
    "<p>Build a recursive function that multiplies a number assuming you can only use the sum algebric operation.</p>"
   ]
  },
  {
   "cell_type": "code",
   "execution_count": 20,
   "metadata": {},
   "outputs": [
    {
     "name": "stdout",
     "output_type": "stream",
     "text": [
      "a = 9 b = 5\n",
      "a = 8 b = 5\n",
      "a = 7 b = 5\n",
      "a = 6 b = 5\n",
      "a = 5 b = 5\n",
      "a = 4 b = 5\n",
      "a = 3 b = 5\n",
      "a = 2 b = 5\n",
      "a = 1 b = 5\n"
     ]
    },
    {
     "data": {
      "text/plain": [
       "50"
      ]
     },
     "execution_count": 20,
     "metadata": {},
     "output_type": "execute_result"
    }
   ],
   "source": [
    "def mult(a, b):\n",
    "    \"\"\"assumes a >= 0 and b >= 0, a and b are integers\"\"\"\n",
    "    if a == 0 or b == 0:\n",
    "        return 0\n",
    "\n",
    "    if a == 1:\n",
    "        return b\n",
    "\n",
    "    while a > 1:\n",
    "        a -= 1\n",
    "        print('a =', a, 'b =', b)\n",
    "        \n",
    "        return b + mult(a, b)\n",
    "    \n",
    "mult (10, 5)"
   ]
  },
  {
   "cell_type": "code",
   "execution_count": 27,
   "metadata": {},
   "outputs": [
    {
     "name": "stdout",
     "output_type": "stream",
     "text": [
      "1\n",
      "50\n"
     ]
    }
   ],
   "source": [
    "#professor's solution\n",
    "def mult(a, b):\n",
    "    \"\"\"assumes a > 0 and b > 0 and a, b are integers\"\"\"\n",
    "    if b == 1:\n",
    "        return a\n",
    "    else:\n",
    "        return a + mult(a, b-1)\n",
    "    \n",
    "print(mult(1,1))\n",
    "print(mult(10,5))"
   ]
  },
  {
   "cell_type": "markdown",
   "metadata": {},
   "source": [
    "#### Factorial\n",
    "$n! = n\\cdot(n-1)\\cdot(n-2)\\cdot(n-3)\\cdot...\\cdot 1$"
   ]
  },
  {
   "cell_type": "code",
   "execution_count": 28,
   "metadata": {},
   "outputs": [
    {
     "name": "stdout",
     "output_type": "stream",
     "text": [
      "120\n"
     ]
    }
   ],
   "source": [
    "def fact(n):\n",
    "    \"\"\"assumes n is an integer and n >= 0 \"\"\"\n",
    "    if n == 1:\n",
    "        return 1\n",
    "    else:\n",
    "        return n*fact(n-1)\n",
    "    \n",
    "print(fact(5))"
   ]
  }
 ],
 "metadata": {
  "kernelspec": {
   "display_name": "base",
   "language": "python",
   "name": "python3"
  },
  "language_info": {
   "codemirror_mode": {
    "name": "ipython",
    "version": 3
   },
   "file_extension": ".py",
   "mimetype": "text/x-python",
   "name": "python",
   "nbconvert_exporter": "python",
   "pygments_lexer": "ipython3",
   "version": "3.11.7"
  }
 },
 "nbformat": 4,
 "nbformat_minor": 2
}
