{
 "cells": [
  {
   "cell_type": "markdown",
   "metadata": {},
   "source": [
    "### Finger Exercises - Lesson 3 [3.1 and 3.3–3.5]"
   ]
  },
  {
   "cell_type": "markdown",
   "metadata": {},
   "source": [
    " **Exercise 1** [p.23] - Write a program that asks the user to en ter an integer and prints two integers, root and pwr, such that 0 < pwr < 6 and root**pwr is equal to the integer entered by the user. If no such pair of integers exists, it should print a message to that effect."
   ]
  },
  {
   "cell_type": "code",
   "execution_count": 8,
   "metadata": {},
   "outputs": [
    {
     "name": "stdout",
     "output_type": "stream",
     "text": [
      "root = 2 pwr = 2\n",
      "root = 4 pwr = 1\n"
     ]
    }
   ],
   "source": [
    "x = int(input('Enter an integer:'))\n",
    "\n",
    "max_pwr = 6\n",
    "for root in range(x + 1 ):\n",
    "    for pwr in range(max_pwr + 1):\n",
    "        if root**pwr == x:\n",
    "            print('root =', root, 'pwr =', pwr)"
   ]
  }
 ],
 "metadata": {
  "kernelspec": {
   "display_name": "Python 3",
   "language": "python",
   "name": "python3"
  },
  "language_info": {
   "codemirror_mode": {
    "name": "ipython",
    "version": 3
   },
   "file_extension": ".py",
   "mimetype": "text/x-python",
   "name": "python",
   "nbconvert_exporter": "python",
   "pygments_lexer": "ipython3",
   "version": "3.11.7"
  }
 },
 "nbformat": 4,
 "nbformat_minor": 2
}
